{
 "cells": [
  {
   "cell_type": "code",
   "execution_count": null,
   "id": "66777e0b",
   "metadata": {},
   "outputs": [],
   "source": [
    "import pandas as pd\n",
    "import numpy as np\n",
    "import matplotlib as plt\n",
    "import matplotlib.pyplot as plt\n",
    "import seaborn as sns\n",
    "import statsmodels.api as sm\n",
    "import statsmodels.formula.api as smf\n",
    "from scipy.stats import t, shapiro\n",
    "from statsmodels.stats.outliers_influence import variance_inflation_factor\n",
    "import statsmodels\n",
    "from all_functions import refactorGiniWorldBankDf"
   ]
  },
  {
   "cell_type": "code",
   "execution_count": null,
   "id": "0fcffe27",
   "metadata": {},
   "outputs": [],
   "source": [
    "revenuMondial = pd.read_csv(\"../data/data-projet7.csv\", parse_dates=True)\n",
    "revenuMondial.head(5)"
   ]
  },
  {
   "cell_type": "code",
   "execution_count": null,
   "id": "11f87f66",
   "metadata": {},
   "outputs": [],
   "source": [
    "# Ci-dessus, les revenues mondiale pour une période donnée"
   ]
  },
  {
   "cell_type": "code",
   "execution_count": null,
   "id": "4fa1bd11-d507-493e-b3df-ec366cae0357",
   "metadata": {},
   "outputs": [],
   "source": [
    "# Premère étape. Identifiquation des pays"
   ]
  },
  {
   "cell_type": "code",
   "execution_count": null,
   "id": "d9e11574-f9eb-4b8e-8817-bf0805c282f2",
   "metadata": {},
   "outputs": [],
   "source": [
    "countryCodes = pd.read_csv(\"../data/listeIsoPaysFrench.csv\", parse_dates=True)\n",
    "countryCodes.head(5)"
   ]
  },
  {
   "cell_type": "code",
   "execution_count": null,
   "id": "31d93b6e-17ff-4fe5-803e-9239bbdc6ba8",
   "metadata": {},
   "outputs": [],
   "source": [
    "merged_df = pd.merge(revenuMondial, countryCodes, left_on='country', right_on='iso', how='left')\n",
    "incomes = merged_df[['name','country', 'year_survey', 'quantile','nb_quantiles','income','gdpppp']]\n",
    "incomes = incomes.rename(columns={\"name\":\"nation\"})\n",
    "incomes = incomes.rename(columns={\"year_survey\":\"year\"})\n",
    "incomes.replace(',', '.', regex=True, inplace=True)\n",
    "incomes['income'] = incomes['income'].astype(float)\n",
    "incomes['gdpppp'] = incomes['gdpppp'].astype(float)\n",
    "incomes['year'] = incomes['year'].astype(int)\n",
    "incomes.head(5)"
   ]
  },
  {
   "cell_type": "code",
   "execution_count": null,
   "id": "338d44c5-2393-4ffa-9383-b6c2faa3c1ca",
   "metadata": {},
   "outputs": [],
   "source": [
    "# Information dataFrame"
   ]
  },
  {
   "cell_type": "raw",
   "id": "c2f11642-41ef-4f34-a176-41c7c103a4d3",
   "metadata": {},
   "source": [
    "Définition :\n",
    "    quantile : Un quantile catégorise ou divise un ensemble de données en intervalles spécifiques, chaque intervalle représentant une fraction particulière de l'ensemble. Ces catégories sont déterminées en fonction de la position relative des valeurs dans la distribution des données.\n",
    "    gdpppp : Produit intérieur brut basé sur le pouvoir d'achat"
   ]
  },
  {
   "cell_type": "code",
   "execution_count": null,
   "id": "96b5e7c8-191b-4a7d-a3c3-4d6499c9e265",
   "metadata": {},
   "outputs": [],
   "source": [
    "incomes[\"year\"] = incomes[\"year\"].astype(int)\n",
    "\n",
    "# Résumé des dates minimales et maximales\n",
    "date_min = incomes['year'].min()\n",
    "date_max = incomes['year'].max()\n",
    "# Résumé des revenus minimales et maximales\n",
    "incomeMin = incomes['income'].min()\n",
    "incomeMax = incomes['income'].max()\n",
    "rowMinIncome = incomes.loc[incomes['income'] == incomeMin]\n",
    "rowMaxIncome = incomes.loc[incomes['income'] == incomeMax]\n",
    "# Récupérer le pays associé aux revenus minimaux et maximaux\n",
    "countryMinIncome = rowMinIncome['nation'].values[0]  # Prendre la première valeur car il pourrait y avoir plusieurs lignes\n",
    "countryMaxIncome = rowMaxIncome['nation'].values[0]\n",
    "# Affichage des résultats\n",
    "print(f\"Pays avec le revenu minimal : {countryMinIncome} {incomeMin}\")\n",
    "print(f\"Pays avec le revenu maximal : {countryMaxIncome} {incomeMax}\")\n",
    "# Affichage des résultats\n",
    "print(f\"Date minimale : {date_min}\")\n",
    "print(f\"Date maximale : {date_max}\")"
   ]
  },
  {
   "cell_type": "code",
   "execution_count": null,
   "id": "d47f9892-c3be-4520-a6de-a0ad1c90c8e4",
   "metadata": {},
   "outputs": [],
   "source": [
    "arrIncomesYears = incomes['year'].sort_values(ascending=True).unique()\n",
    "arrIncomesYears = [str(value) for value in arrIncomesYears]\n",
    "arrIncomesYears"
   ]
  },
  {
   "cell_type": "code",
   "execution_count": null,
   "id": "fad768b9-426c-4f95-8b46-c1c9af920502",
   "metadata": {},
   "outputs": [],
   "source": [
    "nombrePays = incomes['country'].nunique()\n",
    "print(f\"Nombre de pays par année: {nombrePays}\")"
   ]
  },
  {
   "cell_type": "markdown",
   "id": "4a3a4b07-f6a2-479d-bd68-b6d3f6b92125",
   "metadata": {},
   "source": [
    "Traitement des donnée manquante"
   ]
  },
  {
   "cell_type": "code",
   "execution_count": null,
   "id": "af5f0a98-6fd8-4b89-885e-3bd8e883604b",
   "metadata": {},
   "outputs": [],
   "source": [
    "# Grouper par pays\n",
    "groupedByCountry = incomes.groupby('country')\n",
    "# Liste des quantiles attendus (1 à 100)\n",
    "expectedQuantiles = set(range(1, 101))\n",
    "# Créer une liste pour stocker les pays avec des quantiles manquants\n",
    "countriesWithMissingQuantiles = []\n",
    "\n",
    "# Parcourir chaque groupe (pays) et vérifier les quantiles manquants\n",
    "for country, group in groupedByCountry:\n",
    "    actualQuantiles = set(group['quantile'])\n",
    "    missingQuantiles = expectedQuantiles - actualQuantiles\n",
    "    \n",
    "    if missingQuantiles:\n",
    "        countriesWithMissingQuantiles.append((country, missingQuantiles))\n",
    "\n",
    "# Afficher les résultats\n",
    "if countriesWithMissingQuantiles:\n",
    "    print(\"Pays avec des quantiles manquants :\")\n",
    "    for country, missingQuantiles in countriesWithMissingQuantiles:\n",
    "        print(f\"{country}: Quantiles manquants {missingQuantiles}\")\n",
    "else:\n",
    "    print(\"Aucun pays avec des quantiles manquants.\")"
   ]
  },
  {
   "cell_type": "code",
   "execution_count": null,
   "id": "26b6619b-8050-49dc-8ce1-2eb2b03375db",
   "metadata": {},
   "outputs": [],
   "source": [
    "ltu = 'LTU'\n",
    "moyenneLTUIncome = incomes.loc[(incomes['country'] == ltu) & (incomes['quantile'] == 40) \n",
    "            | (incomes['country'] == ltu) & (incomes['quantile'] == 42)]['income'].mean();\n",
    "moyenneLTUIncome"
   ]
  },
  {
   "cell_type": "code",
   "execution_count": null,
   "id": "dd9ef943-915c-459d-a138-28bae5be82da",
   "metadata": {},
   "outputs": [],
   "source": [
    "dfMissingRowLTU = pd.DataFrame({'nation':'Lithuania','country': [ltu], 'year': [2008], 'quantile': [41], \n",
    "                           'nb_quantiles': [100], 'income': [moyenneLTUIncome], 'gdpppp': 17571.0});\n",
    "\n",
    "dfMissingRowLTU"
   ]
  },
  {
   "cell_type": "code",
   "execution_count": null,
   "id": "124c3567-3f0f-4221-a18a-9ead12c6d3ff",
   "metadata": {},
   "outputs": [],
   "source": [
    "incomes = pd.concat([incomes, dfMissingRowLTU], ignore_index=True, sort=True)\n",
    "display(incomes.shape)\n",
    "incomes.head()"
   ]
  },
  {
   "cell_type": "code",
   "execution_count": null,
   "id": "eda56b90-4e1b-4db9-a2ce-34c996d3c488",
   "metadata": {},
   "outputs": [],
   "source": [
    "incomes[incomes['country'] == 'LTU'].head(1)"
   ]
  },
  {
   "cell_type": "raw",
   "id": "09feb60d-b60c-4a1b-aefd-5cd6c39fd8a1",
   "metadata": {},
   "source": [
    "Nous avons mis en place le qantille manquant"
   ]
  },
  {
   "cell_type": "code",
   "execution_count": null,
   "id": "74eeb997-8d2a-482b-a3d7-1cabb26a1449",
   "metadata": {},
   "outputs": [],
   "source": [
    "countriesNullsdpppp = incomes.loc[incomes['gdpppp'].isnull(), 'country'].unique()\n",
    "countriesNullsdpppp"
   ]
  },
  {
   "cell_type": "raw",
   "id": "c3be387d-62fa-4add-8b26-1b397dd36ea6",
   "metadata": {},
   "source": [
    "On récuperer  les GPPPP manquant pour le kosovo et la palestine"
   ]
  },
  {
   "cell_type": "code",
   "execution_count": null,
   "id": "0f897532-0421-4b51-9934-b3fde57cb8e4",
   "metadata": {},
   "outputs": [],
   "source": [
    "xkx = countriesNullsdpppp[0];\n",
    "pse = countriesNullsdpppp[1];"
   ]
  },
  {
   "cell_type": "markdown",
   "id": "8b98133f-abcb-4d1b-b2ae-cde009eaba00",
   "metadata": {},
   "source": [
    "Je récupére le dataset de la worlbank afin de récuperer les gd pppp \n"
   ]
  },
  {
   "cell_type": "code",
   "execution_count": null,
   "id": "da2bfe31-0037-41e8-83c2-eb454602400c",
   "metadata": {},
   "outputs": [],
   "source": [
    "gdpppp = pd.read_csv(\"../data/worldbank-gdpppp.csv\", parse_dates=True, sep=';')\n",
    "gdpppp = gdpppp.iloc[: , :-1]\n",
    "copyGd = gdpppp.copy\n",
    "gdpppp.head(1)"
   ]
  },
  {
   "cell_type": "code",
   "execution_count": null,
   "id": "5f484468-bf7e-49ce-97c7-1f5db7497b78",
   "metadata": {},
   "outputs": [],
   "source": [
    "pseGd = gdpppp[gdpppp['Country Code'] == pse]\n",
    "pseGdppp = pseGd['2009'].values[0]\n",
    "pseGdppp"
   ]
  },
  {
   "cell_type": "code",
   "execution_count": null,
   "id": "c80c30d7-facf-4d57-8471-d112429ef675",
   "metadata": {},
   "outputs": [],
   "source": [
    "getXKXGd = gdpppp[gdpppp['Country Code'] == xkx]\n",
    "xkxGdppp = getXKXGd['2009'].values[0]\n",
    "xkxGdppp"
   ]
  },
  {
   "cell_type": "code",
   "execution_count": null,
   "id": "c11eb4d6-eb56-4fc9-ade6-5b9ddea40755",
   "metadata": {},
   "outputs": [],
   "source": [
    "incomes.loc[incomes['country'] == xkx, 'gdpppp'] = xkxGdppp\n",
    "incomes.loc[incomes['country'] == xkx, 'nation'] = 'Kosovo'\n",
    "incomes.loc[incomes['country'] == pse, 'gdpppp'] = pseGdppp\n",
    "incomes[incomes['country'] == xkx].head(1)"
   ]
  },
  {
   "cell_type": "code",
   "execution_count": null,
   "id": "5b15dead-61b0-453d-903f-cab76fc3d6d7",
   "metadata": {},
   "outputs": [],
   "source": [
    "incomes[incomes['country'] == pse].head(1)"
   ]
  },
  {
   "cell_type": "markdown",
   "id": "2a0253e9-c1e6-43d5-a780-d89474b13498",
   "metadata": {},
   "source": [
    "#Indice de gini "
   ]
  },
  {
   "cell_type": "code",
   "execution_count": null,
   "id": "9d257e73-840f-41da-b271-1ba385831b7b",
   "metadata": {},
   "outputs": [],
   "source": [
    "giniPath = \"../data/gini.csv\"\n",
    "# Nettoyage de base des données.\n",
    "giniWorld = pd.read_csv(giniPath, delimiter=',', parse_dates=True)\n",
    "giniWorld = giniWorld.drop('Indicator Name', axis=1)\n",
    "giniWorld = giniWorld.drop('Indicator Code', axis=1)\n",
    "giniWorld = giniWorld.dropna(axis=1, how='all')\n",
    "giniWorld = giniWorld.rename(columns={\"Country Code\":\"CountryCode\"})\n",
    "giniWorld = giniWorld.rename(columns={\"Country Name\":\"Country\"})\n",
    "giniWorld = giniWorld.dropna(how='all')\n",
    "giniWorld = giniWorld.dropna(axis=1, how='all')\n",
    "giniWorld.head(2)"
   ]
  },
  {
   "cell_type": "code",
   "execution_count": null,
   "id": "d3b58707-cd2e-4ffa-9b94-099755ee72e9",
   "metadata": {},
   "outputs": [],
   "source": [
    "# pays depuis iso si il existe pas dans le df gini\n",
    "missGiniIso = ~np.isin(countryCodes['iso'].values, giniWorld.CountryCode.values)\n",
    "countryCodes.loc[missGiniIso,['iso', 'name']]"
   ]
  },
  {
   "cell_type": "code",
   "execution_count": null,
   "id": "a10be6b4-0e3a-4d8a-aedd-13c749931ab4",
   "metadata": {},
   "outputs": [],
   "source": [
    "countryCodes.loc[missGiniIso,['iso', 'name']].count()"
   ]
  },
  {
   "cell_type": "code",
   "execution_count": null,
   "id": "59e85c1d-5299-4e98-8794-b6b8a2e381a8",
   "metadata": {},
   "outputs": [],
   "source": [
    "# Verification si nous avons des données d'indice de gini comparer au df gini\n",
    "giniColumns = []\n",
    "for value in giniWorld.columns:\n",
    "    giniColumns.append(value)\n",
    "    \n",
    "giniVars = [year for year in giniColumns if year in (arrIncomesYears)]\n",
    "giniMelt = pd.melt(giniWorld, id_vars =['CountryCode', 'Country'], value_vars = giniColumns, var_name ='year', \n",
    "                    value_name ='gini')\n",
    "# La lecture d'un indice de gini se fait entre 0 et 1\n",
    "giniMelt['gini'] = round(giniMelt['gini']/100, 2)\n",
    "giniMelt.dropna(inplace=True)\n",
    "giniMelt['year'] = giniMelt['year'].astype(int)\n",
    "giniMelt.head(2)"
   ]
  },
  {
   "cell_type": "code",
   "execution_count": null,
   "id": "33a812ee-12ac-40f9-97b7-c604cc0ff7aa",
   "metadata": {},
   "outputs": [],
   "source": [
    "# On insere les donnees dans les rev"
   ]
  },
  {
   "cell_type": "code",
   "execution_count": null,
   "id": "32a5b28a-1d4b-436d-a5ac-f3d56ec39cc5",
   "metadata": {},
   "outputs": [],
   "source": [
    "incomesGini = pd.merge(incomes, giniMelt, left_on='country', right_on='CountryCode', how='left', suffixes=('', '_df2'))\n",
    "incomesGini = incomesGini.drop(['CountryCode', 'Country', 'year_df2'], axis=1)\n",
    "incomes = incomesGini\n",
    "if 'gini_df2' in incomes.columns:\n",
    "    incomes.drop(['gini_df2'], axis=1, inplace=True)\n",
    "incomes.head(2)"
   ]
  },
  {
   "cell_type": "code",
   "execution_count": null,
   "id": "ff8195d3-e610-4532-8bda-d0476d9d20f8",
   "metadata": {},
   "outputs": [],
   "source": [
    "# Donnee manquante gini dans notre df de base \n",
    "countryGiniMissed = incomes[incomes['gini'].isna()]\n",
    "countryGiniMissed['country'].unique()"
   ]
  },
  {
   "cell_type": "code",
   "execution_count": null,
   "id": "d371bc82-a42a-4e95-85f5-069caffae734",
   "metadata": {},
   "outputs": [],
   "source": [
    "incomes[incomes['gini'].isna()]"
   ]
  },
  {
   "cell_type": "code",
   "execution_count": null,
   "id": "3b82d2e8-42a2-454e-a9f1-bfaa3679545f",
   "metadata": {},
   "outputs": [],
   "source": [
    "countryCodes"
   ]
  }
 ],
 "metadata": {
  "kernelspec": {
   "display_name": "Python 3 (ipykernel)",
   "language": "python",
   "name": "python3"
  },
  "language_info": {
   "codemirror_mode": {
    "name": "ipython",
    "version": 3
   },
   "file_extension": ".py",
   "mimetype": "text/x-python",
   "name": "python",
   "nbconvert_exporter": "python",
   "pygments_lexer": "ipython3",
   "version": "3.8.18"
  }
 },
 "nbformat": 4,
 "nbformat_minor": 5
}
